{
  "cells": [
    {
      "cell_type": "markdown",
      "metadata": {
        "id": "view-in-github",
        "colab_type": "text"
      },
      "source": [
        "<a href=\"https://colab.research.google.com/github/GoooIce/GoooIce/blob/main/interactive_infer.ipynb\" target=\"_parent\"><img src=\"https://colab.research.google.com/assets/colab-badge.svg\" alt=\"Open In Colab\"/></a>"
      ]
    },
    {
      "cell_type": "code",
      "source": [
        "!git clone https://github.com/FoundationVision/Infinity/"
      ],
      "metadata": {
        "id": "xYGwFvH2gLEy",
        "outputId": "44e19e9c-8ead-4870-9dcb-561f4732df71",
        "colab": {
          "base_uri": "https://localhost:8080/"
        }
      },
      "execution_count": 2,
      "outputs": [
        {
          "output_type": "stream",
          "name": "stdout",
          "text": [
            "Cloning into 'Infinity'...\n",
            "remote: Enumerating objects: 182, done.\u001b[K\n",
            "remote: Counting objects: 100% (178/178), done.\u001b[K\n",
            "remote: Compressing objects: 100% (143/143), done.\u001b[K\n",
            "remote: Total 182 (delta 46), reused 154 (delta 28), pack-reused 4 (from 1)\u001b[K\n",
            "Receiving objects: 100% (182/182), 9.54 MiB | 30.63 MiB/s, done.\n",
            "Resolving deltas: 100% (46/46), done.\n"
          ]
        }
      ]
    },
    {
      "cell_type": "code",
      "source": [
        "!wget https://huggingface.co/FoundationVision/Infinity/resolve/main/infinity_vae_d32reg.pth?download=true"
      ],
      "metadata": {
        "id": "0BR8luPJjqB5",
        "outputId": "c6fc7b42-6abe-4a94-e7ed-5d473ddb8647",
        "colab": {
          "base_uri": "https://localhost:8080/"
        }
      },
      "execution_count": 7,
      "outputs": [
        {
          "output_type": "stream",
          "name": "stdout",
          "text": [
            "--2025-01-03 14:26:47--  https://huggingface.co/FoundationVision/Infinity/resolve/main/infinity_vae_d32reg.pth?download=true\n",
            "Resolving huggingface.co (huggingface.co)... 18.239.50.49, 18.239.50.103, 18.239.50.16, ...\n",
            "Connecting to huggingface.co (huggingface.co)|18.239.50.49|:443... connected.\n",
            "HTTP request sent, awaiting response... 302 Found\n",
            "Location: https://cdn-lfs-us-1.hf.co/repos/84/45/8445983988020af8980ce03b52cc249860ef6e4f4413e81ceac35347d4f7559e/7a37fa3ea1b2a1ebd23de61d91a5e68202825e5a67edaef4b7c55f5fd5b9cf26?response-content-disposition=attachment%3B+filename*%3DUTF-8%27%27infinity_vae_d32reg.pth%3B+filename%3D%22infinity_vae_d32reg.pth%22%3B&Expires=1736173608&Policy=eyJTdGF0ZW1lbnQiOlt7IkNvbmRpdGlvbiI6eyJEYXRlTGVzc1RoYW4iOnsiQVdTOkVwb2NoVGltZSI6MTczNjE3MzYwOH19LCJSZXNvdXJjZSI6Imh0dHBzOi8vY2RuLWxmcy11cy0xLmhmLmNvL3JlcG9zLzg0LzQ1Lzg0NDU5ODM5ODgwMjBhZjg5ODBjZTAzYjUyY2MyNDk4NjBlZjZlNGY0NDEzZTgxY2VhYzM1MzQ3ZDRmNzU1OWUvN2EzN2ZhM2VhMWIyYTFlYmQyM2RlNjFkOTFhNWU2ODIwMjgyNWU1YTY3ZWRhZWY0YjdjNTVmNWZkNWI5Y2YyNj9yZXNwb25zZS1jb250ZW50LWRpc3Bvc2l0aW9uPSoifV19&Signature=BbOVvyc-fDS3yMo6Nf2FAiYUg6Jiu6Fk3IfeoIrOSn0xn%7EaH-fYsZmIXuFF3Ea%7ExXCe-qb7NdQ65PV4rSM28NtqNPaRg1OhppHroqWpE7du1ySROngCLrg99yJarjhWWrCmuEOzNdgtmn18V9mlc4u9d1hSSwtGQIzIzC%7ETPi1HfMArMo2ligpxYmtslOZm62LCtksM%7ExDK-hvvpMsqRCORv1cQG22LvZ7wPfuaVzPyhb6NaRrB44dB-3ARnIMaWk-RSu-0mEUOiJstG7XpUZ006iRtoS%7EDJQYFIeTKyXfB0JZ1ulVbj-H6cCftS5GxMbcVUFj014hO65e4cK6yZjg__&Key-Pair-Id=K24J24Z295AEI9 [following]\n",
            "--2025-01-03 14:26:48--  https://cdn-lfs-us-1.hf.co/repos/84/45/8445983988020af8980ce03b52cc249860ef6e4f4413e81ceac35347d4f7559e/7a37fa3ea1b2a1ebd23de61d91a5e68202825e5a67edaef4b7c55f5fd5b9cf26?response-content-disposition=attachment%3B+filename*%3DUTF-8%27%27infinity_vae_d32reg.pth%3B+filename%3D%22infinity_vae_d32reg.pth%22%3B&Expires=1736173608&Policy=eyJTdGF0ZW1lbnQiOlt7IkNvbmRpdGlvbiI6eyJEYXRlTGVzc1RoYW4iOnsiQVdTOkVwb2NoVGltZSI6MTczNjE3MzYwOH19LCJSZXNvdXJjZSI6Imh0dHBzOi8vY2RuLWxmcy11cy0xLmhmLmNvL3JlcG9zLzg0LzQ1Lzg0NDU5ODM5ODgwMjBhZjg5ODBjZTAzYjUyY2MyNDk4NjBlZjZlNGY0NDEzZTgxY2VhYzM1MzQ3ZDRmNzU1OWUvN2EzN2ZhM2VhMWIyYTFlYmQyM2RlNjFkOTFhNWU2ODIwMjgyNWU1YTY3ZWRhZWY0YjdjNTVmNWZkNWI5Y2YyNj9yZXNwb25zZS1jb250ZW50LWRpc3Bvc2l0aW9uPSoifV19&Signature=BbOVvyc-fDS3yMo6Nf2FAiYUg6Jiu6Fk3IfeoIrOSn0xn%7EaH-fYsZmIXuFF3Ea%7ExXCe-qb7NdQ65PV4rSM28NtqNPaRg1OhppHroqWpE7du1ySROngCLrg99yJarjhWWrCmuEOzNdgtmn18V9mlc4u9d1hSSwtGQIzIzC%7ETPi1HfMArMo2ligpxYmtslOZm62LCtksM%7ExDK-hvvpMsqRCORv1cQG22LvZ7wPfuaVzPyhb6NaRrB44dB-3ARnIMaWk-RSu-0mEUOiJstG7XpUZ006iRtoS%7EDJQYFIeTKyXfB0JZ1ulVbj-H6cCftS5GxMbcVUFj014hO65e4cK6yZjg__&Key-Pair-Id=K24J24Z295AEI9\n",
            "Resolving cdn-lfs-us-1.hf.co (cdn-lfs-us-1.hf.co)... 18.238.243.19, 18.238.243.3, 18.238.243.22, ...\n",
            "Connecting to cdn-lfs-us-1.hf.co (cdn-lfs-us-1.hf.co)|18.238.243.19|:443... connected.\n",
            "HTTP request sent, awaiting response... 200 OK\n",
            "Length: 1557324701 (1.5G) [application/zip]\n",
            "Saving to: ‘infinity_vae_d32reg.pth?download=true’\n",
            "\n",
            "infinity_vae_d32reg 100%[===================>]   1.45G  40.0MB/s    in 37s     \n",
            "\n",
            "2025-01-03 14:27:25 (40.5 MB/s) - ‘infinity_vae_d32reg.pth?download=true’ saved [1557324701/1557324701]\n",
            "\n"
          ]
        }
      ]
    },
    {
      "cell_type": "code",
      "source": [
        "!wget https://huggingface.co/FoundationVision/Infinity/resolve/main/infinity_2b_reg.pth?download=true"
      ],
      "metadata": {
        "id": "4yZIPvSUjZIj",
        "outputId": "857e0e32-b58f-4ee9-cb39-3d1b69efdf4b",
        "colab": {
          "base_uri": "https://localhost:8080/"
        }
      },
      "execution_count": 8,
      "outputs": [
        {
          "output_type": "stream",
          "name": "stdout",
          "text": [
            "--2025-01-03 14:28:36--  https://huggingface.co/FoundationVision/Infinity/resolve/main/infinity_2b_reg.pth?download=true\n",
            "Resolving huggingface.co (huggingface.co)... 18.239.50.103, 18.239.50.49, 18.239.50.80, ...\n",
            "Connecting to huggingface.co (huggingface.co)|18.239.50.103|:443... connected.\n",
            "HTTP request sent, awaiting response... 302 Found\n",
            "Location: https://cdn-lfs-us-1.hf.co/repos/84/45/8445983988020af8980ce03b52cc249860ef6e4f4413e81ceac35347d4f7559e/d5958b37e7ecb914230cd2b8c28aae0ec108ce08b315720bc3dc52596cc5b3a7?response-content-disposition=attachment%3B+filename*%3DUTF-8%27%27infinity_2b_reg.pth%3B+filename%3D%22infinity_2b_reg.pth%22%3B&Expires=1736173716&Policy=eyJTdGF0ZW1lbnQiOlt7IkNvbmRpdGlvbiI6eyJEYXRlTGVzc1RoYW4iOnsiQVdTOkVwb2NoVGltZSI6MTczNjE3MzcxNn19LCJSZXNvdXJjZSI6Imh0dHBzOi8vY2RuLWxmcy11cy0xLmhmLmNvL3JlcG9zLzg0LzQ1Lzg0NDU5ODM5ODgwMjBhZjg5ODBjZTAzYjUyY2MyNDk4NjBlZjZlNGY0NDEzZTgxY2VhYzM1MzQ3ZDRmNzU1OWUvZDU5NThiMzdlN2VjYjkxNDIzMGNkMmI4YzI4YWFlMGVjMTA4Y2UwOGIzMTU3MjBiYzNkYzUyNTk2Y2M1YjNhNz9yZXNwb25zZS1jb250ZW50LWRpc3Bvc2l0aW9uPSoifV19&Signature=BJAeAQfuFHEbJY1x-TBh5Zh5U%7EYGynyh3MwhfXBVVZXkP1b-yWvv%7E2eElOb7cJD050DBsJtdTJXHAN1EI8ZTbNZMCnsMVAvg8tDql5bXBansUFSQCV1tlIUQO87vKSDmy03EF1XyyAVZGWrkgjnd9NjRcwkmL8r9q76ER78FJ7nqk7cCWPdztMi-cFgLUlhffO6csD4CH103uPOA9nlc9kpwipjOt3ML9ByJrfYajPWubBHC8Iwqt3miipxIh734DcD1AZhlowjb8zG1CTWtAVSBJsq9-H8jJMhuVS58dnONZlwfM-CZcnA3W4I80ZFrmZLmM-SQBBmU5Byh2qNDwA__&Key-Pair-Id=K24J24Z295AEI9 [following]\n",
            "--2025-01-03 14:28:36--  https://cdn-lfs-us-1.hf.co/repos/84/45/8445983988020af8980ce03b52cc249860ef6e4f4413e81ceac35347d4f7559e/d5958b37e7ecb914230cd2b8c28aae0ec108ce08b315720bc3dc52596cc5b3a7?response-content-disposition=attachment%3B+filename*%3DUTF-8%27%27infinity_2b_reg.pth%3B+filename%3D%22infinity_2b_reg.pth%22%3B&Expires=1736173716&Policy=eyJTdGF0ZW1lbnQiOlt7IkNvbmRpdGlvbiI6eyJEYXRlTGVzc1RoYW4iOnsiQVdTOkVwb2NoVGltZSI6MTczNjE3MzcxNn19LCJSZXNvdXJjZSI6Imh0dHBzOi8vY2RuLWxmcy11cy0xLmhmLmNvL3JlcG9zLzg0LzQ1Lzg0NDU5ODM5ODgwMjBhZjg5ODBjZTAzYjUyY2MyNDk4NjBlZjZlNGY0NDEzZTgxY2VhYzM1MzQ3ZDRmNzU1OWUvZDU5NThiMzdlN2VjYjkxNDIzMGNkMmI4YzI4YWFlMGVjMTA4Y2UwOGIzMTU3MjBiYzNkYzUyNTk2Y2M1YjNhNz9yZXNwb25zZS1jb250ZW50LWRpc3Bvc2l0aW9uPSoifV19&Signature=BJAeAQfuFHEbJY1x-TBh5Zh5U%7EYGynyh3MwhfXBVVZXkP1b-yWvv%7E2eElOb7cJD050DBsJtdTJXHAN1EI8ZTbNZMCnsMVAvg8tDql5bXBansUFSQCV1tlIUQO87vKSDmy03EF1XyyAVZGWrkgjnd9NjRcwkmL8r9q76ER78FJ7nqk7cCWPdztMi-cFgLUlhffO6csD4CH103uPOA9nlc9kpwipjOt3ML9ByJrfYajPWubBHC8Iwqt3miipxIh734DcD1AZhlowjb8zG1CTWtAVSBJsq9-H8jJMhuVS58dnONZlwfM-CZcnA3W4I80ZFrmZLmM-SQBBmU5Byh2qNDwA__&Key-Pair-Id=K24J24Z295AEI9\n",
            "Resolving cdn-lfs-us-1.hf.co (cdn-lfs-us-1.hf.co)... 18.238.243.19, 18.238.243.22, 18.238.243.3, ...\n",
            "Connecting to cdn-lfs-us-1.hf.co (cdn-lfs-us-1.hf.co)|18.238.243.19|:443... connected.\n",
            "HTTP request sent, awaiting response... 200 OK\n",
            "Length: 8819295332 (8.2G) [binary/octet-stream]\n",
            "Saving to: ‘infinity_2b_reg.pth?download=true’\n",
            "\n",
            "infinity_2b_reg.pth 100%[===================>]   8.21G  40.0MB/s    in 3m 30s  \n",
            "\n",
            "2025-01-03 14:32:06 (40.1 MB/s) - ‘infinity_2b_reg.pth?download=true’ saved [8819295332/8819295332]\n",
            "\n"
          ]
        }
      ]
    },
    {
      "cell_type": "code",
      "source": [
        "!cd Infinity"
      ],
      "metadata": {
        "id": "VlTX2vANg6BZ"
      },
      "execution_count": 9,
      "outputs": []
    },
    {
      "cell_type": "code",
      "execution_count": 10,
      "metadata": {
        "id": "Yss5-Vi6fW7_",
        "outputId": "d04c07cf-46c8-48db-9af2-cbcc782e212a",
        "colab": {
          "base_uri": "https://localhost:8080/",
          "height": 385
        }
      },
      "outputs": [
        {
          "output_type": "error",
          "ename": "ModuleNotFoundError",
          "evalue": "No module named 'tools'",
          "traceback": [
            "\u001b[0;31m---------------------------------------------------------------------------\u001b[0m",
            "\u001b[0;31mModuleNotFoundError\u001b[0m                       Traceback (most recent call last)",
            "\u001b[0;32m<ipython-input-10-d37c4875aebf>\u001b[0m in \u001b[0;36m<cell line: 6>\u001b[0;34m()\u001b[0m\n\u001b[1;32m      4\u001b[0m \u001b[0;32mimport\u001b[0m \u001b[0mcv2\u001b[0m\u001b[0;34m\u001b[0m\u001b[0;34m\u001b[0m\u001b[0m\n\u001b[1;32m      5\u001b[0m \u001b[0;32mimport\u001b[0m \u001b[0mnumpy\u001b[0m \u001b[0;32mas\u001b[0m \u001b[0mnp\u001b[0m\u001b[0;34m\u001b[0m\u001b[0;34m\u001b[0m\u001b[0m\n\u001b[0;32m----> 6\u001b[0;31m \u001b[0;32mfrom\u001b[0m \u001b[0mtools\u001b[0m\u001b[0;34m.\u001b[0m\u001b[0mrun_infinity\u001b[0m \u001b[0;32mimport\u001b[0m \u001b[0;34m*\u001b[0m\u001b[0;34m\u001b[0m\u001b[0;34m\u001b[0m\u001b[0m\n\u001b[0m\u001b[1;32m      7\u001b[0m \u001b[0;34m\u001b[0m\u001b[0m\n\u001b[1;32m      8\u001b[0m \u001b[0mmodel_path\u001b[0m\u001b[0;34m=\u001b[0m\u001b[0;34m'../infinity_2b_reg.pth'\u001b[0m\u001b[0;34m\u001b[0m\u001b[0;34m\u001b[0m\u001b[0m\n",
            "\u001b[0;31mModuleNotFoundError\u001b[0m: No module named 'tools'",
            "",
            "\u001b[0;31m---------------------------------------------------------------------------\u001b[0;32m\nNOTE: If your import is failing due to a missing package, you can\nmanually install dependencies using either !pip or !apt.\n\nTo view examples of installing some common dependencies, click the\n\"Open Examples\" button below.\n\u001b[0;31m---------------------------------------------------------------------------\u001b[0m\n"
          ],
          "errorDetails": {
            "actions": [
              {
                "action": "open_url",
                "actionText": "Open Examples",
                "url": "/notebooks/snippets/importing_libraries.ipynb"
              }
            ]
          }
        }
      ],
      "source": [
        "import random\n",
        "import torch\n",
        "torch.cuda.set_device(0)\n",
        "import cv2\n",
        "import numpy as np\n",
        "from tools.run_infinity import *\n",
        "\n",
        "model_path='../infinity_2b_reg.pth'\n",
        "vae_path='../infinity_vae_d32_reg.pth'\n",
        "text_encoder_ckpt = '../flan-t5-xl'\n",
        "args=argparse.Namespace(\n",
        "    pn='1M',\n",
        "    model_path=model_path,\n",
        "    cfg_insertion_layer=0,\n",
        "    vae_type=32,\n",
        "    vae_path=vae_path,\n",
        "    add_lvl_embeding_only_first_block=1,\n",
        "    use_bit_label=1,\n",
        "    model_type='infinity_2b',\n",
        "    rope2d_each_sa_layer=1,\n",
        "    rope2d_normalized_by_hw=2,\n",
        "    use_scale_schedule_embedding=0,\n",
        "    sampling_per_bits=1,\n",
        "    text_encoder_ckpt=text_encoder_ckpt,\n",
        "    text_channels=2048,\n",
        "    apply_spatial_patchify=0,\n",
        "    h_div_w_template=1.000,\n",
        "    use_flex_attn=0,\n",
        "    cache_dir='/dev/shm',\n",
        "    checkpoint_type='torch',\n",
        "    seed=0,\n",
        "    bf16=1,\n",
        "    save_file='tmp.jpg'\n",
        ")"
      ]
    },
    {
      "cell_type": "code",
      "execution_count": null,
      "metadata": {
        "id": "HNYrWuJ7fW8A"
      },
      "outputs": [],
      "source": [
        "# load text encoder\n",
        "text_tokenizer, text_encoder = load_tokenizer(t5_path=args.text_encoder_ckpt)\n",
        "# load vae\n",
        "vae = load_visual_tokenizer(args)\n",
        "# load infinity\n",
        "infinity = load_transformer(vae, args)"
      ]
    },
    {
      "cell_type": "code",
      "execution_count": null,
      "metadata": {
        "id": "EQp0GvlbfW8B"
      },
      "outputs": [],
      "source": [
        "prompt = \"\"\"alien spaceship enterprise\"\"\"\n",
        "cfg = 3\n",
        "tau = 0.5\n",
        "h_div_w = 1/1 # aspect ratio, height:width\n",
        "seed = random.randint(0, 10000)\n",
        "enable_positive_prompt=0\n",
        "\n",
        "h_div_w_template_ = h_div_w_templates[np.argmin(np.abs(h_div_w_templates-h_div_w))]\n",
        "scale_schedule = dynamic_resolution_h_w[h_div_w_template_][args.pn]['scales']\n",
        "scale_schedule = [(1, h, w) for (_, h, w) in scale_schedule]\n",
        "generated_image = gen_one_img(\n",
        "    infinity,\n",
        "    vae,\n",
        "    text_tokenizer,\n",
        "    text_encoder,\n",
        "    prompt,\n",
        "    g_seed=seed,\n",
        "    gt_leak=0,\n",
        "    gt_ls_Bl=None,\n",
        "    cfg_list=cfg,\n",
        "    tau_list=tau,\n",
        "    scale_schedule=scale_schedule,\n",
        "    cfg_insertion_layer=[args.cfg_insertion_layer],\n",
        "    vae_type=args.vae_type,\n",
        "    sampling_per_bits=args.sampling_per_bits,\n",
        "    enable_positive_prompt=enable_positive_prompt,\n",
        ")\n",
        "args.save_file = 'ipynb_tmp.jpg'\n",
        "os.makedirs(osp.dirname(osp.abspath(args.save_file)), exist_ok=True)\n",
        "cv2.imwrite(args.save_file, generated_image.cpu().numpy())\n",
        "print(f'Save to {osp.abspath(args.save_file)}')"
      ]
    }
  ],
  "metadata": {
    "fileId": "8ac263ab-b18c-41dc-b409-0fb0f32525f0",
    "filePath": "/mnt/bn/foundation-vision/hanjian.thu123/infinity/infinity/tools/interactive_infer.ipynb",
    "kernelspec": {
      "display_name": "Python 3",
      "name": "python3"
    },
    "language_info": {
      "codemirror_mode": {
        "name": "ipython",
        "version": 3
      },
      "file_extension": ".py",
      "mimetype": "text/x-python",
      "name": "python",
      "nbconvert_exporter": "python",
      "pygments_lexer": "ipython3",
      "version": "3.9.2"
    },
    "colab": {
      "provenance": [],
      "gpuType": "T4",
      "include_colab_link": true
    },
    "accelerator": "GPU"
  },
  "nbformat": 4,
  "nbformat_minor": 0
}